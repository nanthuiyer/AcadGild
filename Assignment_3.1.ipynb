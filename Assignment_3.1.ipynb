{
 "cells": [
  {
   "cell_type": "markdown",
   "metadata": {},
   "source": [
    "## Assignment_3.1"
   ]
  },
  {
   "cell_type": "code",
   "execution_count": 4,
   "metadata": {},
   "outputs": [
    {
     "data": {
      "text/plain": [
       "150"
      ]
     },
     "execution_count": 4,
     "metadata": {},
     "output_type": "execute_result"
    }
   ],
   "source": [
    "#my_reduce\n",
    "from functools import reduce\n",
    "lst  = [10,20,30,40,50]\n",
    "#lst = ['Nanthakumar',' ','Iyer', ' ', 'Katary']\n",
    "def add (a,b) :\n",
    "    #print (a,b)\n",
    "    return a+b\n",
    "\n",
    "def my_reduce(func, list):\n",
    "    l = list\n",
    "    r = l[0]\n",
    "    for i in range(1,len(l)) :\n",
    "        r = func(r, l[i])\n",
    "    return r\n",
    "    \n",
    "my_reduce (add, lst)\n",
    "#reduce(add,lst)"
   ]
  },
  {
   "cell_type": "code",
   "execution_count": 1,
   "metadata": {},
   "outputs": [
    {
     "data": {
      "text/plain": [
       "[10, 20, 30, 40, 50, 52, 54]"
      ]
     },
     "execution_count": 1,
     "metadata": {},
     "output_type": "execute_result"
    }
   ],
   "source": [
    "#my_filter\n",
    "\n",
    "def even_check(num):\n",
    "    if num%2 ==0:\n",
    "        return True\n",
    "\n",
    "lst  = [10,15, 20,25,30,35,40,45,50, 51,52,54]\n",
    "#lst = ['Nanthakumar',' ','Iyer', ' ', 'Katary']\n",
    "def my_filter(func, list):\n",
    "    l = list\n",
    "    l_final = []\n",
    "    for i in range(0,len(l)) :\n",
    "        if(func(l[i]) == True) :\n",
    "            l_final.append(l[i])\n",
    "    return l_final\n",
    "    \n",
    "my_filter (even_check, lst)\n"
   ]
  },
  {
   "cell_type": "code",
   "execution_count": null,
   "metadata": {},
   "outputs": [],
   "source": []
  }
 ],
 "metadata": {
  "kernelspec": {
   "display_name": "Python 3",
   "language": "python",
   "name": "python3"
  },
  "language_info": {
   "codemirror_mode": {
    "name": "ipython",
    "version": 3
   },
   "file_extension": ".py",
   "mimetype": "text/x-python",
   "name": "python",
   "nbconvert_exporter": "python",
   "pygments_lexer": "ipython3",
   "version": "3.6.4"
  }
 },
 "nbformat": 4,
 "nbformat_minor": 2
}
