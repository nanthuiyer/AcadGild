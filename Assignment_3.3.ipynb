{
 "cells": [
  {
   "cell_type": "markdown",
   "metadata": {},
   "source": [
    "### Assignment_3.3"
   ]
  },
  {
   "cell_type": "code",
   "execution_count": 1,
   "metadata": {},
   "outputs": [
    {
     "data": {
      "text/plain": [
       "'Spectra Cypress'"
      ]
     },
     "execution_count": 1,
     "metadata": {},
     "output_type": "execute_result"
    }
   ],
   "source": [
    "#longestword \n",
    "(list_of_words) = ['nanthakumar','iyer','Spectra Cypress','Thubarahalli','Bengaluru','Acadgild']\n",
    "list_size = []\n",
    "\n",
    "def longestword (word_list):\n",
    "    for i in range(0,len(word_list)) :\n",
    "        list_size.append((len(word_list[i]), i))              \n",
    "    max_index = max(list_size)\n",
    "    return(list_of_words[max_index[1]])\n",
    "\n",
    "longestword(list_of_words)"
   ]
  },
  {
   "cell_type": "code",
   "execution_count": null,
   "metadata": {},
   "outputs": [],
   "source": []
  }
 ],
 "metadata": {
  "kernelspec": {
   "display_name": "Python 3",
   "language": "python",
   "name": "python3"
  },
  "language_info": {
   "codemirror_mode": {
    "name": "ipython",
    "version": 3
   },
   "file_extension": ".py",
   "mimetype": "text/x-python",
   "name": "python",
   "nbconvert_exporter": "python",
   "pygments_lexer": "ipython3",
   "version": "3.6.4"
  }
 },
 "nbformat": 4,
 "nbformat_minor": 2
}
