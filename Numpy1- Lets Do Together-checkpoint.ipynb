{
 "cells": [
  {
   "cell_type": "code",
   "execution_count": 23,
   "metadata": {
    "collapsed": true
   },
   "outputs": [],
   "source": [
    "#Given a two dimensional array, how to extract unique rows? "
   ]
  },
  {
   "cell_type": "code",
   "execution_count": 24,
   "metadata": {},
   "outputs": [
    {
     "name": "stdout",
     "output_type": "stream",
     "text": [
      "[[0 1 0]\n",
      " [0 1 1]\n",
      " [1 1 1]]\n"
     ]
    }
   ],
   "source": [
    "Z = np.random.randint(0,2,(6,3))\n",
    "T = np.ascontiguousarray(Z).view(np.dtype((np.void, Z.dtype.itemsize * Z.shape[1])))\n",
    "_, idx = np.unique(T, return_index=True)\n",
    "uZ = Z[idx]\n",
    "print(uZ)"
   ]
  },
  {
   "cell_type": "code",
   "execution_count": 25,
   "metadata": {
    "collapsed": true
   },
   "outputs": [],
   "source": [
    "#Considering a 10x3 matrix, extract rows with unequal values (e.g. [2,2,3])"
   ]
  },
  {
   "cell_type": "code",
   "execution_count": 26,
   "metadata": {},
   "outputs": [
    {
     "name": "stdout",
     "output_type": "stream",
     "text": [
      "[[0 1 4]\n",
      " [3 2 0]\n",
      " [2 3 3]\n",
      " [2 2 2]\n",
      " [2 1 3]\n",
      " [0 4 0]\n",
      " [0 3 0]\n",
      " [2 2 1]\n",
      " [1 1 4]\n",
      " [1 1 2]]\n",
      "[[0 1 4]\n",
      " [3 2 0]\n",
      " [2 3 3]\n",
      " [2 1 3]\n",
      " [0 4 0]\n",
      " [0 3 0]\n",
      " [2 2 1]\n",
      " [1 1 4]\n",
      " [1 1 2]]\n"
     ]
    }
   ],
   "source": [
    "Z = np.random.randint(0,5,(10,3))\n",
    "E = np.logical_and.reduce(Z[:,1:] == Z[:,:-1], axis=1)\n",
    "U = Z[~E]\n",
    "print(Z)\n",
    "print(U)"
   ]
  },
  {
   "cell_type": "code",
   "execution_count": 27,
   "metadata": {
    "collapsed": true
   },
   "outputs": [],
   "source": [
    "#Consider two arrays A and B of shape (8,3) and (2,2). How to find rows of \n",
    "#A that contain elements of each row of B regardless of the order of the elements in B?"
   ]
  },
  {
   "cell_type": "code",
   "execution_count": 28,
   "metadata": {},
   "outputs": [
    {
     "name": "stdout",
     "output_type": "stream",
     "text": [
      "[0 1 3 4 5 7]\n"
     ]
    }
   ],
   "source": [
    "A = np.random.randint(0,5,(8,3))\n",
    "B = np.random.randint(0,5,(2,2))\n",
    "\n",
    "C = (A[..., np.newaxis, np.newaxis] == B)\n",
    "rows = (C.sum(axis=(1,2,3)) >= B.shape[1]).nonzero()[0]\n",
    "print(rows)"
   ]
  },
  {
   "cell_type": "code",
   "execution_count": 29,
   "metadata": {
    "collapsed": true
   },
   "outputs": [],
   "source": [
    "#Given an arbitrary number of vectors, build the cartesian product (every combinations of every item) "
   ]
  },
  {
   "cell_type": "code",
   "execution_count": 30,
   "metadata": {},
   "outputs": [
    {
     "name": "stdout",
     "output_type": "stream",
     "text": [
      "[[1 4 6]\n",
      " [1 4 7]\n",
      " [1 5 6]\n",
      " [1 5 7]\n",
      " [2 4 6]\n",
      " [2 4 7]\n",
      " [2 5 6]\n",
      " [2 5 7]\n",
      " [3 4 6]\n",
      " [3 4 7]\n",
      " [3 5 6]\n",
      " [3 5 7]]\n"
     ]
    }
   ],
   "source": [
    "def cartesian(arrays):\n",
    "    arrays = [np.asarray(a) for a in arrays]\n",
    "    shape = (len(x) for x in arrays)\n",
    "\n",
    "    ix = np.indices(shape, dtype=int)\n",
    "    ix = ix.reshape(len(arrays), -1).T\n",
    "\n",
    "    for n, arr in enumerate(arrays):\n",
    "        ix[:, n] = arrays[n][ix[:, n]]\n",
    "\n",
    "    return ix\n",
    "\n",
    "print (cartesian(([1, 2, 3], [4, 5], [6, 7])))"
   ]
  },
  {
   "cell_type": "code",
   "execution_count": 35,
   "metadata": {
    "collapsed": true
   },
   "outputs": [],
   "source": [
    "#find the most frequent value in an array?"
   ]
  },
  {
   "cell_type": "code",
   "execution_count": 36,
   "metadata": {},
   "outputs": [
    {
     "name": "stdout",
     "output_type": "stream",
     "text": [
      "5\n"
     ]
    }
   ],
   "source": [
    "Z = np.random.randint(0,10,50)\n",
    "print(np.bincount(Z).argmax())"
   ]
  },
  {
   "cell_type": "code",
   "execution_count": 37,
   "metadata": {
    "collapsed": true
   },
   "outputs": [],
   "source": [
    "# compute the rank of a matrix"
   ]
  },
  {
   "cell_type": "code",
   "execution_count": 38,
   "metadata": {
    "collapsed": true
   },
   "outputs": [],
   "source": [
    "Z = np.random.uniform(0,1,(10,10))\n",
    "U, S, V = np.linalg.svd(Z) # Singular Value Decomposition\n",
    "rank = np.sum(S > 1e-10)"
   ]
  },
  {
   "cell_type": "code",
   "execution_count": 39,
   "metadata": {},
   "outputs": [
    {
     "data": {
      "text/plain": [
       "10"
      ]
     },
     "execution_count": 39,
     "metadata": {},
     "output_type": "execute_result"
    }
   ],
   "source": [
    "rank"
   ]
  },
  {
   "cell_type": "code",
   "execution_count": 40,
   "metadata": {
    "collapsed": true
   },
   "outputs": [],
   "source": [
    "#Consider a one-dimensional array Z, build a two-dimensional array from it"
   ]
  },
  {
   "cell_type": "code",
   "execution_count": 41,
   "metadata": {},
   "outputs": [
    {
     "name": "stdout",
     "output_type": "stream",
     "text": [
      "[[0 1 2]\n",
      " [1 2 3]\n",
      " [2 3 4]\n",
      " [3 4 5]\n",
      " [4 5 6]\n",
      " [5 6 7]\n",
      " [6 7 8]\n",
      " [7 8 9]]\n"
     ]
    }
   ],
   "source": [
    "from numpy.lib import stride_tricks\n",
    "\n",
    "def rolling(a, window):\n",
    "    shape = (a.size - window + 1, window)\n",
    "    strides = (a.itemsize, a.itemsize)\n",
    "    return stride_tricks.as_strided(a, shape=shape, strides=strides)\n",
    "Z = rolling(np.arange(10), 3)\n",
    "print(Z)"
   ]
  },
  {
   "cell_type": "code",
   "execution_count": 42,
   "metadata": {
    "collapsed": true
   },
   "outputs": [],
   "source": [
    "#Extract all the contiguous 3x3 blocks from a random 10x10 matrix"
   ]
  },
  {
   "cell_type": "code",
   "execution_count": 43,
   "metadata": {},
   "outputs": [
    {
     "name": "stdout",
     "output_type": "stream",
     "text": [
      "[[[[0 2 1]\n",
      "   [0 4 3]\n",
      "   [2 2 3]]\n",
      "\n",
      "  [[2 1 1]\n",
      "   [4 3 2]\n",
      "   [2 3 1]]\n",
      "\n",
      "  [[1 1 0]\n",
      "   [3 2 3]\n",
      "   [3 1 4]]\n",
      "\n",
      "  [[1 0 4]\n",
      "   [2 3 1]\n",
      "   [1 4 0]]\n",
      "\n",
      "  [[0 4 4]\n",
      "   [3 1 3]\n",
      "   [4 0 2]]\n",
      "\n",
      "  [[4 4 2]\n",
      "   [1 3 0]\n",
      "   [0 2 3]]\n",
      "\n",
      "  [[4 2 1]\n",
      "   [3 0 0]\n",
      "   [2 3 1]]\n",
      "\n",
      "  [[2 1 3]\n",
      "   [0 0 4]\n",
      "   [3 1 1]]]\n",
      "\n",
      "\n",
      " [[[0 4 3]\n",
      "   [2 2 3]\n",
      "   [4 2 1]]\n",
      "\n",
      "  [[4 3 2]\n",
      "   [2 3 1]\n",
      "   [2 1 2]]\n",
      "\n",
      "  [[3 2 3]\n",
      "   [3 1 4]\n",
      "   [1 2 1]]\n",
      "\n",
      "  [[2 3 1]\n",
      "   [1 4 0]\n",
      "   [2 1 2]]\n",
      "\n",
      "  [[3 1 3]\n",
      "   [4 0 2]\n",
      "   [1 2 4]]\n",
      "\n",
      "  [[1 3 0]\n",
      "   [0 2 3]\n",
      "   [2 4 1]]\n",
      "\n",
      "  [[3 0 0]\n",
      "   [2 3 1]\n",
      "   [4 1 2]]\n",
      "\n",
      "  [[0 0 4]\n",
      "   [3 1 1]\n",
      "   [1 2 1]]]\n",
      "\n",
      "\n",
      " [[[2 2 3]\n",
      "   [4 2 1]\n",
      "   [0 2 2]]\n",
      "\n",
      "  [[2 3 1]\n",
      "   [2 1 2]\n",
      "   [2 2 1]]\n",
      "\n",
      "  [[3 1 4]\n",
      "   [1 2 1]\n",
      "   [2 1 1]]\n",
      "\n",
      "  [[1 4 0]\n",
      "   [2 1 2]\n",
      "   [1 1 3]]\n",
      "\n",
      "  [[4 0 2]\n",
      "   [1 2 4]\n",
      "   [1 3 0]]\n",
      "\n",
      "  [[0 2 3]\n",
      "   [2 4 1]\n",
      "   [3 0 3]]\n",
      "\n",
      "  [[2 3 1]\n",
      "   [4 1 2]\n",
      "   [0 3 1]]\n",
      "\n",
      "  [[3 1 1]\n",
      "   [1 2 1]\n",
      "   [3 1 3]]]\n",
      "\n",
      "\n",
      " [[[4 2 1]\n",
      "   [0 2 2]\n",
      "   [2 4 0]]\n",
      "\n",
      "  [[2 1 2]\n",
      "   [2 2 1]\n",
      "   [4 0 1]]\n",
      "\n",
      "  [[1 2 1]\n",
      "   [2 1 1]\n",
      "   [0 1 4]]\n",
      "\n",
      "  [[2 1 2]\n",
      "   [1 1 3]\n",
      "   [1 4 1]]\n",
      "\n",
      "  [[1 2 4]\n",
      "   [1 3 0]\n",
      "   [4 1 4]]\n",
      "\n",
      "  [[2 4 1]\n",
      "   [3 0 3]\n",
      "   [1 4 0]]\n",
      "\n",
      "  [[4 1 2]\n",
      "   [0 3 1]\n",
      "   [4 0 2]]\n",
      "\n",
      "  [[1 2 1]\n",
      "   [3 1 3]\n",
      "   [0 2 1]]]\n",
      "\n",
      "\n",
      " [[[0 2 2]\n",
      "   [2 4 0]\n",
      "   [0 0 3]]\n",
      "\n",
      "  [[2 2 1]\n",
      "   [4 0 1]\n",
      "   [0 3 2]]\n",
      "\n",
      "  [[2 1 1]\n",
      "   [0 1 4]\n",
      "   [3 2 0]]\n",
      "\n",
      "  [[1 1 3]\n",
      "   [1 4 1]\n",
      "   [2 0 2]]\n",
      "\n",
      "  [[1 3 0]\n",
      "   [4 1 4]\n",
      "   [0 2 3]]\n",
      "\n",
      "  [[3 0 3]\n",
      "   [1 4 0]\n",
      "   [2 3 1]]\n",
      "\n",
      "  [[0 3 1]\n",
      "   [4 0 2]\n",
      "   [3 1 3]]\n",
      "\n",
      "  [[3 1 3]\n",
      "   [0 2 1]\n",
      "   [1 3 0]]]\n",
      "\n",
      "\n",
      " [[[2 4 0]\n",
      "   [0 0 3]\n",
      "   [2 3 3]]\n",
      "\n",
      "  [[4 0 1]\n",
      "   [0 3 2]\n",
      "   [3 3 0]]\n",
      "\n",
      "  [[0 1 4]\n",
      "   [3 2 0]\n",
      "   [3 0 1]]\n",
      "\n",
      "  [[1 4 1]\n",
      "   [2 0 2]\n",
      "   [0 1 1]]\n",
      "\n",
      "  [[4 1 4]\n",
      "   [0 2 3]\n",
      "   [1 1 2]]\n",
      "\n",
      "  [[1 4 0]\n",
      "   [2 3 1]\n",
      "   [1 2 3]]\n",
      "\n",
      "  [[4 0 2]\n",
      "   [3 1 3]\n",
      "   [2 3 4]]\n",
      "\n",
      "  [[0 2 1]\n",
      "   [1 3 0]\n",
      "   [3 4 0]]]\n",
      "\n",
      "\n",
      " [[[0 0 3]\n",
      "   [2 3 3]\n",
      "   [0 3 3]]\n",
      "\n",
      "  [[0 3 2]\n",
      "   [3 3 0]\n",
      "   [3 3 3]]\n",
      "\n",
      "  [[3 2 0]\n",
      "   [3 0 1]\n",
      "   [3 3 2]]\n",
      "\n",
      "  [[2 0 2]\n",
      "   [0 1 1]\n",
      "   [3 2 1]]\n",
      "\n",
      "  [[0 2 3]\n",
      "   [1 1 2]\n",
      "   [2 1 2]]\n",
      "\n",
      "  [[2 3 1]\n",
      "   [1 2 3]\n",
      "   [1 2 1]]\n",
      "\n",
      "  [[3 1 3]\n",
      "   [2 3 4]\n",
      "   [2 1 1]]\n",
      "\n",
      "  [[1 3 0]\n",
      "   [3 4 0]\n",
      "   [1 1 0]]]\n",
      "\n",
      "\n",
      " [[[2 3 3]\n",
      "   [0 3 3]\n",
      "   [3 1 1]]\n",
      "\n",
      "  [[3 3 0]\n",
      "   [3 3 3]\n",
      "   [1 1 0]]\n",
      "\n",
      "  [[3 0 1]\n",
      "   [3 3 2]\n",
      "   [1 0 3]]\n",
      "\n",
      "  [[0 1 1]\n",
      "   [3 2 1]\n",
      "   [0 3 4]]\n",
      "\n",
      "  [[1 1 2]\n",
      "   [2 1 2]\n",
      "   [3 4 2]]\n",
      "\n",
      "  [[1 2 3]\n",
      "   [1 2 1]\n",
      "   [4 2 2]]\n",
      "\n",
      "  [[2 3 4]\n",
      "   [2 1 1]\n",
      "   [2 2 4]]\n",
      "\n",
      "  [[3 4 0]\n",
      "   [1 1 0]\n",
      "   [2 4 4]]]]\n"
     ]
    }
   ],
   "source": [
    "Z = np.random.randint(0,5,(10,10))\n",
    "n = 3\n",
    "i = 1 + (Z.shape[0]-3)\n",
    "j = 1 + (Z.shape[1]-3)\n",
    "C = stride_tricks.as_strided(Z, shape=(i, j, n, n), strides=Z.strides + Z.strides)\n",
    "print(C)"
   ]
  },
  {
   "cell_type": "code",
   "execution_count": 44,
   "metadata": {
    "collapsed": true
   },
   "outputs": [],
   "source": [
    "#how to compute moving averages of 3 period and 5 period over an array"
   ]
  },
  {
   "cell_type": "code",
   "execution_count": 45,
   "metadata": {},
   "outputs": [
    {
     "name": "stdout",
     "output_type": "stream",
     "text": [
      "[  1.   2.   3.   4.   5.   6.   7.   8.   9.  10.  11.  12.  13.  14.  15.\n",
      "  16.  17.  18.]\n"
     ]
    }
   ],
   "source": [
    "def moving_average(a, n=3) :\n",
    "    ret = np.cumsum(a, dtype=float)\n",
    "    ret[n:] = ret[n:] - ret[:-n]\n",
    "    return ret[n - 1:] / n\n",
    "Z = np.arange(20)\n",
    "print(moving_average(Z, n=3))"
   ]
  },
  {
   "cell_type": "code",
   "execution_count": 46,
   "metadata": {},
   "outputs": [
    {
     "name": "stdout",
     "output_type": "stream",
     "text": [
      "[  2.   3.   4.   5.   6.   7.   8.   9.  10.  11.  12.  13.  14.  15.  16.\n",
      "  17.]\n"
     ]
    }
   ],
   "source": [
    "def moving_average(a, n=5) :\n",
    "    ret = np.cumsum(a, dtype=float)\n",
    "    ret[n:] = ret[n:] - ret[:-n]\n",
    "    return ret[n - 1:] / n\n",
    "Z = np.arange(20)\n",
    "print(moving_average(Z, n=5))"
   ]
  },
  {
   "cell_type": "code",
   "execution_count": 47,
   "metadata": {
    "collapsed": true
   },
   "outputs": [],
   "source": [
    "#Consider an array of dimension (5,5,3), how to mulitply it by an array with dimensions (5,5)?"
   ]
  },
  {
   "cell_type": "code",
   "execution_count": 48,
   "metadata": {},
   "outputs": [
    {
     "name": "stdout",
     "output_type": "stream",
     "text": [
      "[[[ 2.  2.  2.]\n",
      "  [ 2.  2.  2.]\n",
      "  [ 2.  2.  2.]\n",
      "  [ 2.  2.  2.]\n",
      "  [ 2.  2.  2.]]\n",
      "\n",
      " [[ 2.  2.  2.]\n",
      "  [ 2.  2.  2.]\n",
      "  [ 2.  2.  2.]\n",
      "  [ 2.  2.  2.]\n",
      "  [ 2.  2.  2.]]\n",
      "\n",
      " [[ 2.  2.  2.]\n",
      "  [ 2.  2.  2.]\n",
      "  [ 2.  2.  2.]\n",
      "  [ 2.  2.  2.]\n",
      "  [ 2.  2.  2.]]\n",
      "\n",
      " [[ 2.  2.  2.]\n",
      "  [ 2.  2.  2.]\n",
      "  [ 2.  2.  2.]\n",
      "  [ 2.  2.  2.]\n",
      "  [ 2.  2.  2.]]\n",
      "\n",
      " [[ 2.  2.  2.]\n",
      "  [ 2.  2.  2.]\n",
      "  [ 2.  2.  2.]\n",
      "  [ 2.  2.  2.]\n",
      "  [ 2.  2.  2.]]]\n"
     ]
    }
   ],
   "source": [
    "A = np.ones((5,5,3))\n",
    "B = 2*np.ones((5,5))\n",
    "print(A * B[:,:,None])"
   ]
  },
  {
   "cell_type": "code",
   "execution_count": 49,
   "metadata": {
    "collapsed": true
   },
   "outputs": [],
   "source": [
    "#How to get the diagonal of a dot product?"
   ]
  },
  {
   "cell_type": "code",
   "execution_count": 55,
   "metadata": {},
   "outputs": [],
   "source": [
    "import numpy as np\n",
    "a = np.arange(15).reshape(5, 3)\n",
    "b = np.arange(9).reshape(3, 3)"
   ]
  },
  {
   "cell_type": "code",
   "execution_count": 56,
   "metadata": {},
   "outputs": [
    {
     "data": {
      "text/plain": [
       "array([  60,  672, 1932, 3840, 6396])"
      ]
     },
     "execution_count": 56,
     "metadata": {},
     "output_type": "execute_result"
    }
   ],
   "source": [
    "np.diag(np.dot(np.dot(a, b), a.T))"
   ]
  },
  {
   "cell_type": "code",
   "execution_count": 57,
   "metadata": {},
   "outputs": [
    {
     "data": {
      "text/plain": [
       "array([  60,  672, 1932, 3840, 6396])"
      ]
     },
     "execution_count": 57,
     "metadata": {},
     "output_type": "execute_result"
    }
   ],
   "source": [
    "np.einsum('ij,ji->i', np.dot(a, b), a.T)"
   ]
  },
  {
   "cell_type": "code",
   "execution_count": 58,
   "metadata": {},
   "outputs": [
    {
     "data": {
      "text/plain": [
       "array([  60,  672, 1932, 3840, 6396])"
      ]
     },
     "execution_count": 58,
     "metadata": {},
     "output_type": "execute_result"
    }
   ],
   "source": [
    "np.einsum('ij,ij->i', np.dot(a, b), a)"
   ]
  },
  {
   "cell_type": "code",
   "execution_count": null,
   "metadata": {
    "collapsed": true
   },
   "outputs": [],
   "source": [
    "#get the whole thing in a single shot"
   ]
  },
  {
   "cell_type": "code",
   "execution_count": 60,
   "metadata": {},
   "outputs": [
    {
     "data": {
      "text/plain": [
       "array([  60,  672, 1932, 3840, 6396])"
      ]
     },
     "execution_count": 60,
     "metadata": {},
     "output_type": "execute_result"
    }
   ],
   "source": [
    "np.einsum('ij,jk,ki->i', a, b, a.T)"
   ]
  },
  {
   "cell_type": "code",
   "execution_count": 61,
   "metadata": {},
   "outputs": [
    {
     "data": {
      "text/plain": [
       "array([  60,  672, 1932, 3840, 6396])"
      ]
     },
     "execution_count": 61,
     "metadata": {},
     "output_type": "execute_result"
    }
   ],
   "source": [
    "np.einsum('ij,jk,ik->i', a, b, a)"
   ]
  },
  {
   "cell_type": "code",
   "execution_count": 64,
   "metadata": {
    "collapsed": true
   },
   "outputs": [],
   "source": [
    "#make performance evaluation of all the above queries\n",
    "n, p = 10000, 200\n",
    "a = np.random.rand(n, p)\n",
    "b = np.random.rand(p, p)"
   ]
  },
  {
   "cell_type": "code",
   "execution_count": 65,
   "metadata": {},
   "outputs": [
    {
     "name": "stdout",
     "output_type": "stream",
     "text": [
      "1.48 s ± 51 ms per loop (mean ± std. dev. of 7 runs, 1 loop each)\n"
     ]
    }
   ],
   "source": [
    "%timeit np.einsum('ij,jk,ki->i', a, b, a.T)"
   ]
  },
  {
   "cell_type": "code",
   "execution_count": 66,
   "metadata": {},
   "outputs": [
    {
     "name": "stdout",
     "output_type": "stream",
     "text": [
      "39.3 ms ± 8.35 ms per loop (mean ± std. dev. of 7 runs, 1 loop each)\n"
     ]
    }
   ],
   "source": [
    " %timeit np.einsum('ij,ij->i', np.dot(a, b), a)"
   ]
  },
  {
   "cell_type": "code",
   "execution_count": 67,
   "metadata": {},
   "outputs": [
    {
     "name": "stdout",
     "output_type": "stream",
     "text": [
      "1.66 s ± 100 ms per loop (mean ± std. dev. of 7 runs, 1 loop each)\n"
     ]
    }
   ],
   "source": [
    "%timeit np.diag(np.dot(np.dot(a, b), a.T))"
   ]
  },
  {
   "cell_type": "code",
   "execution_count": 68,
   "metadata": {},
   "outputs": [
    {
     "name": "stdout",
     "output_type": "stream",
     "text": [
      "50.2 ms ± 1.29 ms per loop (mean ± std. dev. of 7 runs, 10 loops each)\n"
     ]
    }
   ],
   "source": [
    " %timeit (a.dot(b) * a).sum(-1)"
   ]
  },
  {
   "cell_type": "code",
   "execution_count": null,
   "metadata": {
    "collapsed": true
   },
   "outputs": [],
   "source": []
  }
 ],
 "metadata": {
  "kernelspec": {
   "display_name": "Python 3",
   "language": "python",
   "name": "python3"
  },
  "language_info": {
   "codemirror_mode": {
    "name": "ipython",
    "version": 3
   },
   "file_extension": ".py",
   "mimetype": "text/x-python",
   "name": "python",
   "nbconvert_exporter": "python",
   "pygments_lexer": "ipython3",
   "version": "3.6.4"
  }
 },
 "nbformat": 4,
 "nbformat_minor": 2
}
