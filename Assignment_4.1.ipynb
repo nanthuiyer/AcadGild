{
 "cells": [
  {
   "cell_type": "markdown",
   "metadata": {},
   "source": [
    "### Assignment_4.1\n",
    "\n",
    "### Write a function filter_long_words() that takes a list of words and an integer n and returns the list of words that are longer than n\n"
   ]
  },
  {
   "cell_type": "code",
   "execution_count": 342,
   "metadata": {},
   "outputs": [
    {
     "data": {
      "text/plain": [
       "['nanthakumar', 'Spectra Cypress', 'Thubarahalli', 'Bengaluru']"
      ]
     },
     "execution_count": 342,
     "metadata": {},
     "output_type": "execute_result"
    }
   ],
   "source": [
    "#filter_long_words \n",
    "list_of_words = ['nanthakumar','iyer','Spectra Cypress','Thubarahalli','Bengaluru','Acadgild']\n",
    "\n",
    "def filter_long_words (word_list,n):\n",
    "    return((list(filter((lambda x: len(x) > n), word_list))))\n",
    "\n",
    "filter_long_words(list_of_words,8)\n",
    "\n"
   ]
  },
  {
   "cell_type": "markdown",
   "metadata": {},
   "source": [
    "### Assignment_4.2 (Problem 1)"
   ]
  },
  {
   "cell_type": "code",
   "execution_count": 284,
   "metadata": {},
   "outputs": [
    {
     "data": {
      "text/plain": [
       "[11, 4, 15, 12, 9, 8]"
      ]
     },
     "execution_count": 284,
     "metadata": {},
     "output_type": "execute_result"
    }
   ],
   "source": [
    "list_of_words = ['nanthakumar','iyer','Spectra Cypress','Thubarahalli','Bengaluru','Acadgild']\n",
    "\n",
    "def list_of_words_to_size (list_of_words) :\n",
    "    return(list(map((lambda x: len(x)), list_of_words)))\n",
    "\n",
    "list_of_words_to_size(list_of_words)\n"
   ]
  },
  {
   "cell_type": "markdown",
   "metadata": {},
   "source": [
    "### Assignment_4.2 (Problem 2)"
   ]
  },
  {
   "cell_type": "code",
   "execution_count": 336,
   "metadata": {},
   "outputs": [
    {
     "data": {
      "text/plain": [
       "False"
      ]
     },
     "execution_count": 336,
     "metadata": {},
     "output_type": "execute_result"
    }
   ],
   "source": [
    "def find_vowel(c) :\n",
    "    #print(list(map((lambda x: x==c), vowel)))\n",
    "    if c in \"aeiouAIEOU\":\n",
    "        return True\n",
    "    else :\n",
    "        return False \n",
    "    \n",
    "find_vowel('T')\n",
    "\n",
    "\n"
   ]
  },
  {
   "cell_type": "code",
   "execution_count": null,
   "metadata": {},
   "outputs": [],
   "source": []
  }
 ],
 "metadata": {
  "kernelspec": {
   "display_name": "Python 3",
   "language": "python",
   "name": "python3"
  },
  "language_info": {
   "codemirror_mode": {
    "name": "ipython",
    "version": 3
   },
   "file_extension": ".py",
   "mimetype": "text/x-python",
   "name": "python",
   "nbconvert_exporter": "python",
   "pygments_lexer": "ipython3",
   "version": "3.6.4"
  }
 },
 "nbformat": 4,
 "nbformat_minor": 2
}
