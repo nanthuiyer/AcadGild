{
 "cells": [
  {
   "cell_type": "markdown",
   "metadata": {},
   "source": [
    "## Assignment_3.2"
   ]
  },
  {
   "cell_type": "code",
   "execution_count": 24,
   "metadata": {},
   "outputs": [
    {
     "name": "stdout",
     "output_type": "stream",
     "text": [
      "['A', 'C', 'A', 'D', 'G', 'I', 'L', 'D']\n"
     ]
    }
   ],
   "source": [
    "string = \"ACADGILD\"\n",
    "Name = [x for x in string[0:len(string)]]\n",
    "print (Name)"
   ]
  },
  {
   "cell_type": "code",
   "execution_count": 452,
   "metadata": {},
   "outputs": [
    {
     "name": "stdout",
     "output_type": "stream",
     "text": [
      "['x', 'xx', 'xxx', 'xxxx'] ['y', 'yy', 'yyy', 'yyyy'] ['z', 'zz', 'zzz', 'zzzz']\n",
      "['x', 'y', 'z', 'xx', 'yy', 'zz', 'xx', 'yy', 'zz', 'xxxx', 'yyyy', 'zzzz']\n",
      "[[2], [3], [4], [3], [4], [5], [4], [5], [6]]\n",
      "[[2, 3, 4], [3, 4, 5], [4, 5, 6], [5, 6, 7]]\n",
      "[[2 3 4 5]\n",
      " [3 4 5 6]\n",
      " [4 5 6 7]\n",
      " [5 6 7 8]]\n",
      "[(1, 1), (2, 1), (3, 1)] [(1, 2), (2, 2), (3, 2)] [(1, 3), (2, 3), (3, 3)]\n"
     ]
    }
   ],
   "source": [
    "from numpy import *\n",
    "string = \"xyz\"\n",
    "Name = []\n",
    "Name = [x for x in string[0:len(string)]]\n",
    "#print (Name)\n",
    "level_1 = []\n",
    "level_2 = []\n",
    "level_3 = []\n",
    "matrix = [[2,3,4],[3,4,5],[4,5,6]]\n",
    "matrix_1 = [5,6,7,8]\n",
    "\n",
    "def concat_c(ch,n) : \n",
    "    temp_c = ch\n",
    "    l = []\n",
    "    l.append(temp_c) \n",
    "    for i in range(n) :\n",
    "        temp_c = temp_c + ch\n",
    "        l.append(temp_c)\n",
    "    return l\n",
    "\n",
    "def concat_l(ch, n) : \n",
    "    temp_c = ch\n",
    "    l = []\n",
    "    l.extend(temp_c)\n",
    "    l.extend([(temp_c[i]+temp_c[i]) for i in range(n)]) \n",
    "    l.extend([(temp_c[i]+temp_c[i]) for i in range(n)])\n",
    "    l.extend([(temp_c[i]+temp_c[i]+temp_c[i]+temp_c[i]) for i in range(n)])\n",
    "    return l\n",
    "\n",
    "level_1.extend([concat_c(Name[i],3) for i in range(0,len(Name))])\n",
    "print(*level_1)\n",
    "level_2.extend([concat_l(Name,3)])\n",
    "print(*level_2)\n",
    "\n",
    "level_3 = [[row[i]] for row in matrix for i in range(3)]\n",
    "print(level_3)\n",
    "matrix.append([5,6,7])\n",
    "print (matrix)\n",
    "shape(matrix)\n",
    "matrix = insert(matrix,[3],[[5], [6], [7],[8]],axis=1)\n",
    "print(matrix)\n",
    "\n",
    "list_temp = [1,2,3]\n",
    "result_5 = []\n",
    "result_5.append([(list_temp[i],1) for i in range(0,len(list_temp))])\n",
    "result_5.append([(list_temp[i],2) for i in range(0,len(list_temp))])\n",
    "result_5.append([(list_temp[i],3) for i in range(0,len(list_temp))])\n",
    "print(*result_5)\n",
    "#[(1, 1), (2, 1), (3, 1), (1, 2), (2, 2), (3, 2), (1, 3), (2, 3), (3, 3)]"
   ]
  },
  {
   "cell_type": "code",
   "execution_count": null,
   "metadata": {},
   "outputs": [],
   "source": []
  }
 ],
 "metadata": {
  "kernelspec": {
   "display_name": "Python 3",
   "language": "python",
   "name": "python3"
  },
  "language_info": {
   "codemirror_mode": {
    "name": "ipython",
    "version": 3
   },
   "file_extension": ".py",
   "mimetype": "text/x-python",
   "name": "python",
   "nbconvert_exporter": "python",
   "pygments_lexer": "ipython3",
   "version": "3.6.4"
  }
 },
 "nbformat": 4,
 "nbformat_minor": 2
}
