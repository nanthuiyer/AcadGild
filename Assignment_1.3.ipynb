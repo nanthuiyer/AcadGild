{
 "cells": [
  {
   "cell_type": "markdown",
   "metadata": {},
   "source": [
    "## Assignment_1.3"
   ]
  },
  {
   "cell_type": "code",
   "execution_count": 2,
   "metadata": {},
   "outputs": [
    {
     "name": "stdout",
     "output_type": "stream",
     "text": [
      "First Name: Nanthakumar\n",
      "Last Name: Iyer\n",
      "Nanthakumar Iyer\n",
      "Iyer Nanthakumar\n"
     ]
    },
    {
     "data": {
      "text/plain": [
       "'reyI ramukahtnaN'"
      ]
     },
     "execution_count": 2,
     "metadata": {},
     "output_type": "execute_result"
    }
   ],
   "source": [
    "first_name = input(\"First Name: \")\n",
    "last_name = input (\"Last Name: \")\n",
    "Name = first_name + \" \" + last_name\n",
    "reverse_name = last_name + \" \" + first_name\n",
    "print (Name)\n",
    "print (reverse_name)\n",
    "Name[::-1]"
   ]
  }
 ],
 "metadata": {
  "kernelspec": {
   "display_name": "Python 3",
   "language": "python",
   "name": "python3"
  },
  "language_info": {
   "codemirror_mode": {
    "name": "ipython",
    "version": 3
   },
   "file_extension": ".py",
   "mimetype": "text/x-python",
   "name": "python",
   "nbconvert_exporter": "python",
   "pygments_lexer": "ipython3",
   "version": "3.6.4"
  }
 },
 "nbformat": 4,
 "nbformat_minor": 2
}
